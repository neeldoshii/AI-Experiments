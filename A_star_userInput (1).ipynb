{
 "cells": [
  {
   "cell_type": "code",
   "execution_count": 1,
   "id": "446c1c27-f5f8-4084-bee8-1dcb502371ec",
   "metadata": {},
   "outputs": [
    {
     "name": "stdin",
     "output_type": "stream",
     "text": [
      "Enter the number of edges:  5\n",
      "Enter edge (start, end, cost):  A B 1\n",
      "Enter edge (start, end, cost):  B A 5\n",
      "Enter edge (start, end, cost):  B C 10\n",
      "Enter edge (start, end, cost):  C E 15\n",
      "Enter edge (start, end, cost):  E F 20\n",
      "Enter the start node:  A\n",
      "Enter the goal node:  E\n"
     ]
    },
    {
     "name": "stdout",
     "output_type": "stream",
     "text": [
      "Path found: ['A', 'B', 'C', 'E']\n",
      "Total cost: 30.0\n"
     ]
    }
   ],
   "source": [
    "import heapq\n",
    "\n",
    "def heuristic(node, goal):\n",
    "    return 0\n",
    "\n",
    "def astar(graph, start, goal):\n",
    "    frontier = []\n",
    "    heapq.heappush(frontier, (0, start))\n",
    "    came_from = {start: None}\n",
    "    cost_so_far = {start: 0}\n",
    "    while frontier:\n",
    "        current_cost, current_node = heapq.heappop(frontier)\n",
    "        if current_node == goal:\n",
    "            path = []\n",
    "            while current_node is not None:\n",
    "                path.append(current_node)\n",
    "                current_node = came_from[current_node]\n",
    "            return path[::-1], cost_so_far[goal]\n",
    "        for neighbor, cost in graph[current_node].items():\n",
    "            new_cost = cost_so_far[current_node] + cost\n",
    "            if neighbor not in cost_so_far or new_cost < cost_so_far[neighbor]:\n",
    "                cost_so_far[neighbor] = new_cost\n",
    "                priority = new_cost + heuristic(neighbor, goal)\n",
    "                heapq.heappush(frontier, (priority, neighbor))\n",
    "                came_from[neighbor] = current_node\n",
    "    return None, None\n",
    "\n",
    "if __name__ == \"__main__\":\n",
    "    graph = {}\n",
    "    num_edges = int(input(\"Enter the number of edges: \"))\n",
    "    for _ in range(num_edges):\n",
    "        start, end, cost = input(\"Enter edge (start, end, cost): \").split()\n",
    "        cost = float(cost)\n",
    "        if start not in graph:\n",
    "            graph[start] = {}\n",
    "        if end not in graph:\n",
    "            graph[end] = {}\n",
    "        graph[start][end] = cost\n",
    "        graph[end][start] = cost\n",
    "    start_node = input(\"Enter the start node: \")\n",
    "    goal_node = input(\"Enter the goal node: \")\n",
    "    path, total_cost = astar(graph, start_node, goal_node)\n",
    "    if path:\n",
    "        print(\"Path found:\", path)\n",
    "        print(\"Total cost:\", total_cost)\n",
    "    else:\n",
    "        print(\"No path found\")\n"
   ]
  },
  {
   "cell_type": "code",
   "execution_count": null,
   "id": "dcf6edd2-06c1-4556-973b-566fb0e23d67",
   "metadata": {},
   "outputs": [],
   "source": []
  }
 ],
 "metadata": {
  "kernelspec": {
   "display_name": "Python 3 (ipykernel)",
   "language": "python",
   "name": "python3"
  },
  "language_info": {
   "codemirror_mode": {
    "name": "ipython",
    "version": 3
   },
   "file_extension": ".py",
   "mimetype": "text/x-python",
   "name": "python",
   "nbconvert_exporter": "python",
   "pygments_lexer": "ipython3",
   "version": "3.11.7"
  }
 },
 "nbformat": 4,
 "nbformat_minor": 5
}
